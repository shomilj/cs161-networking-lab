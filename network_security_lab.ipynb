{
 "cells": [
  {
   "cell_type": "markdown",
   "metadata": {},
   "source": [
    "# CS 161: Network Security Lab\n",
    "v1.0 (2020 Summer)."
   ]
  },
  {
   "cell_type": "markdown",
   "metadata": {},
   "source": [
    "Hey! Welcome to the world of network security. In this lab, you'll have a chance to apply some of the concepts you've learned over the past few week. This lab has two parts.\n",
    "1. **Part 1:** Coffee Shop Attacks [TCP/IP, TLS]\n",
    "2. **Part 2:** Other Networking Topics [DNS, DNSSec]"
   ]
  },
  {
   "cell_type": "markdown",
   "metadata": {},
   "source": [
    "---\n",
    "\n",
    "# Environment Setup\n",
    "\n",
    "This lab requires the Python `flask`, `scapy`, and `requests` modules. `scapy` should work out-of-the-box for MacOS; if you're using a Linux or Windows device, you may need to follow additional platform-specific versions available [here](https://scapy.readthedocs.io/en/latest/installation.html#platform-specific-instructions), such as installing `tcpdump`, if applicable. If you're unable to get `scapy` working, please check the [FAQ's](https://docs.google.com/document/d/1FWNH1TqVD9aXqfcGrbE6o0xaJEuPrjQMhgPJMuQ5oLM/edit) or make a Piazza post!\n",
    "<br>\n",
    "<br>\n",
    "Run these commands in your terminal to install the packages (or, if you prefer Conda or virtualenv, feel free to use those instead). On some machines, you may need to use `pip3` instead of `pip`.\n",
    "```\n",
    "pip install flask\n",
    "pip install scapy\n",
    "pip install requests\n",
    "```\n",
    "\n",
    "**This lab also requires you to be a root user on your local computer. As a result, it will not work on the Hive.**\n",
    "If you didn't launch this network in root mode, quit & re-launch the notebook using the following command: `sudo jupyter notebook --allow-root`"
   ]
  },
  {
   "cell_type": "markdown",
   "metadata": {},
   "source": [
    "#### Network Interface\n",
    "This lab simulates connections between a client & server running on your local interface. The default values for these are in the comments below, but your specific `loopback` / `LAN` interface might be different. Try the values specified below, but if they don't work, refer to the [FAQ's](https://docs.google.com/document/d/1FWNH1TqVD9aXqfcGrbE6o0xaJEuPrjQMhgPJMuQ5oLM/edit?usp=sharing) or make a Piazza Post."
   ]
  },
  {
   "cell_type": "code",
   "execution_count": 7,
   "metadata": {},
   "outputs": [],
   "source": [
    "# TODO: Set the value below based on your platform.\n",
    "\n",
    "# MacOS: 'lo0'\n",
    "# Linux: 'lo'\n",
    "# Windows: 'Run ipconfig / all in a terminal window & copy your Wireless LAN Interface description value here.'\n",
    "\n",
    "NETWORK_INTERFACE = 'lo0'"
   ]
  },
  {
   "cell_type": "markdown",
   "metadata": {},
   "source": [
    "To test if scapy is set up correctly, run the following cells. If you see an error, your network interface might be incorrect, or you might need to re-run this notebook as a root user (`sudo jupyter notebook`)."
   ]
  },
  {
   "cell_type": "code",
   "execution_count": 8,
   "metadata": {},
   "outputs": [],
   "source": [
    "from scapy.all import *"
   ]
  },
  {
   "cell_type": "code",
   "execution_count": 9,
   "metadata": {
    "scrolled": true
   },
   "outputs": [
    {
     "data": {
      "text/plain": [
       "<Sniffed: TCP:1 UDP:0 ICMP:0 Other:0>"
      ]
     },
     "execution_count": 9,
     "metadata": {},
     "output_type": "execute_result"
    }
   ],
   "source": [
    "sniff(iface=NETWORK_INTERFACE, count=1)"
   ]
  },
  {
   "cell_type": "markdown",
   "metadata": {},
   "source": [
    "**If you see `<Sniffed: ...>` above, you're ready to proceed!**"
   ]
  },
  {
   "cell_type": "markdown",
   "metadata": {},
   "source": [
    "If you see an error, either try doing a quick Google Search to diagnose your problem, or make a Piazza post with details about your system (i.e. Mac/Windows/Linux)."
   ]
  },
  {
   "cell_type": "markdown",
   "metadata": {},
   "source": [
    "***"
   ]
  },
  {
   "cell_type": "markdown",
   "metadata": {},
   "source": [
    "# Part 1: Coffee Shop Attacks"
   ]
  },
  {
   "cell_type": "markdown",
   "metadata": {},
   "source": [
    "## Preface\n",
    "\n",
    "Imagine you're sitting at a coffee shop. You connect to the coffee shop's public, shared WiFi network. You notice that EvanBot is also at the coffee shop – and connected to the same network. We'd like to explore the following questions:\n",
    "- How much of EvanBot's browsing activity can we monitor by simply being on the same WiFi network? \n",
    "- Can we interrupt his activity in any way?\n",
    "- What can EvanBot do to protect himself?"
   ]
  },
  {
   "cell_type": "markdown",
   "metadata": {},
   "source": [
    "## Quick Review: Packets\n",
    "\n",
    "A **Network Packet** is an atomic unit of structured communication. Packets contain a **Header** and a **Payload**.\n",
    "\n",
    "\n",
    "The protocols for sending information over the internet follow a layered structure. Our interpretation of these layers closely follows the [OSI 7-Layer Model](https://en.wikipedia.org/wiki/OSI_model). The three layers that we're going to explore in this lab are the Application Layer, the Transport Layer, and the Network Layer.\n",
    "- **Application Layer**: the human-readable context you want to send (i.e. HTML, JSON, etc.)\n",
    "- **Transport Layer**: this creates an end-to-end connection between the source & destination servers (i.e. UDP, TCP)\n",
    "- **Network Layer**: this finds routes through the internet to actually send messages (i.e. IP)\n",
    "\n",
    "<img style=\"float: left;\" src=\"images/layers.png\" width=\"250\">"
   ]
  },
  {
   "cell_type": "markdown",
   "metadata": {},
   "source": [
    "## Quick Review: HTTP"
   ]
  },
  {
   "cell_type": "markdown",
   "metadata": {},
   "source": [
    "\n",
    "**HTTP (Hypertext Transfer Protocol)** is an Application Layer protocol that websites and apps use to communicate with servers and databases. Just like the other layers, HTTP Packets are encapsulated in the layer below – the Transport layer. They also have headers and (optionally) payloads – check out the examples below.\n",
    "\n",
    "#### GET Requests are used to request data from a server.\n",
    "```\n",
    "GET / HTTP/1.1\n",
    "Host: squigler.com\n",
    "Dnt: 1\n",
    "```\n",
    "\n",
    "#### POST Requests are used to upload data to a server.\n",
    "```\n",
    "POST /login HTTP/1.1\n",
    "Host: squigler.com\n",
    "Content-Length: 40\n",
    "Content-Type: application/x-url-formencoded\n",
    "Dnt: 1\n",
    "\n",
    "{\"username\": \"Alice\", \"password\": \"1234\"}\n",
    "```\n",
    "\n",
    "In the first example, the GET Request contains an empty payload; all the information needed to process the request is in the header. In the second example, the POST Request contains a JSON (dictionary) payload. "
   ]
  },
  {
   "cell_type": "markdown",
   "metadata": {},
   "source": [
    "# Attack #1: Sniff Insecure Network Traffic"
   ]
  },
  {
   "cell_type": "markdown",
   "metadata": {},
   "source": [
    "EvanBot decides to log in to his CalCentral Account at http://calcentral.berkeley.edu. Can we see his username and password? **Note: he's using HTTP, not HTTPS. Why does that matter?**\n",
    "<br/>\n",
    "<br/>\n",
    "When EvanBot submits his login information via CalCentral, his browser makes a POST Request to http://calcentral.berkeley.edu/api/login with his username and password attached in the data payload. Take a look at the client-side logic (runs on EvanBot's browser) and the server-side logic (runs on the CalCentral server) below.\n",
    "***\n",
    "### Client-Side Logic\n",
    "```Python\n",
    "def handle_login_button_clicked():\n",
    "    # Make a POST Request to CalCentral, containing the entered username/password.\n",
    "    success = requests.post('http://calcentral.berkeley.edu/api/login', \n",
    "                            data=json.dumps({\n",
    "                                'username': page.get('username'),\n",
    "                                'password': page.get('password')\n",
    "                            })).json()\n",
    "    \n",
    "    # Check the value of the response.\n",
    "    if success.get('success') == True:\n",
    "        print(\"Login completed successfully!\")\n",
    "    else:\n",
    "        print(\"Username or password was incorrect.\")\n",
    "```\n",
    "***\n",
    "### Server-Side Logic\n",
    "```Python\n",
    "# Handle the POST Request on the server.\n",
    "@app.route('/api/login', methods=['POST'])\n",
    "def login_user():\n",
    "    username = request.form.get('username', '')\n",
    "    password = request.form.get('password', '')\n",
    "    \n",
    "    # Check if evanbot's username and password are valid.\n",
    "    if username == 'HIDDEN' and password == 'HIDDEN':\n",
    "        success = True\n",
    "    else:\n",
    "        success = False\n",
    "        \n",
    "    return success\n",
    "```\n",
    "***"
   ]
  },
  {
   "cell_type": "markdown",
   "metadata": {},
   "source": [
    "### Simulate a Login Event & Capture Packets"
   ]
  },
  {
   "cell_type": "markdown",
   "metadata": {},
   "source": [
    "In this attack, our goal is to simulate an on-path attacker. We're going to wait for EvanBot to log in - and then try to steal his login credentials, which are sent as plaintext over the insecure TCP connection."
   ]
  },
  {
   "cell_type": "markdown",
   "metadata": {},
   "source": [
    "**Instructions:**\n",
    "Open up two terminal windows. We'll refer to them as **T1** and **T2**. In both windows, change directory to the attack1 folder (`cd attack1`).\n",
    "\n",
    "1. **In Notebook**: Start sniffing for packets by running the cell below.\n",
    "2. **In T1**: start the web server by running `python app.py --port 1616`\n",
    "3. **In T2**: Simulate a login event by running `python login.py --port 1616` (in a separate terminal window)"
   ]
  },
  {
   "cell_type": "code",
   "execution_count": 9,
   "metadata": {
    "scrolled": false
   },
   "outputs": [
    {
     "name": "stdout",
     "output_type": "stream",
     "text": [
      "Starting network sniffing. Now, simulate a login event.\n",
      "Collected 1 packets.\n",
      "Collected 2 packets.\n",
      "Collected 3 packets.\n",
      "Collected 4 packets.\n",
      "Collected 5 packets.\n",
      "Collected 6 packets.\n",
      "Collected 7 packets.\n",
      "Collected 8 packets.\n",
      "Collected 9 packets.\n",
      "Collected 10 packets.\n",
      "Collected 11 packets.\n",
      "Collected 12 packets.\n",
      "Collected 13 packets.\n",
      "Collected 14 packets.\n",
      "Collected 15 packets.\n",
      "Collected 16 packets.\n",
      "Collected 17 packets.\n",
      "Collected 18 packets.\n"
     ]
    },
    {
     "data": {
      "text/plain": [
       "<Sniffed: TCP:18 UDP:0 ICMP:0 Other:0>"
      ]
     },
     "execution_count": 9,
     "metadata": {},
     "output_type": "execute_result"
    }
   ],
   "source": [
    "# TODO: Do the following.\n",
    "\n",
    "# 1) Run this cell to begin sniffing packets. \n",
    "# 2) In a terminal window, run \"flask run\" to start the server. \n",
    "# 3) In a second terminal window, run \"python3 simulate_login.py\" to simulate a login event.\n",
    "# 4) Information should show up in this cell's output. \n",
    "\n",
    "packets = []\n",
    "\n",
    "def print_packet(packet):\n",
    "    global packets\n",
    "    packets.append(packet)\n",
    "    print(f'Collected {len(packets)} packets.')\n",
    "\n",
    "print(\"Starting network sniffing. Now, simulate a login event.\")\n",
    "sniff(filter=\"port 1616\", prn=print_packet, iface=NETWORK_INTERFACE, count=18)"
   ]
  },
  {
   "cell_type": "markdown",
   "metadata": {},
   "source": [
    "***\n",
    "### Checkpoint Question #1.1\n",
    "1. How many TCP packets did you collect in one simulated login event? UDP packets?\n",
    "2. How many packets contained payloads? (A packet that contains a Payload has a \"Raw\" layer.\n",
    "3. How many bytes did the server send to the client?\n",
    "4. How many bytes did the client send to the server?\n",
    "\n",
    "Note: you can access the packets sniffed above using the `packets` array. Use `packet.summary()` to see a summary of the packet.\n",
    "\n",
    "Hint: The python `len` function returns the total size (# bytes) of a packet.\n",
    "<br>\n",
    "Hint: to differentiate server & client, look at the HTTP Payloads, or consider which of the two initiated the connection.\n",
    "***"
   ]
  },
  {
   "cell_type": "markdown",
   "metadata": {},
   "source": [
    "Enter your answers here."
   ]
  },
  {
   "cell_type": "markdown",
   "metadata": {},
   "source": [
    "***"
   ]
  },
  {
   "cell_type": "code",
   "execution_count": 8,
   "metadata": {},
   "outputs": [],
   "source": [
    "# TODO: YOUR CODE HERE [to answer Checkpoint Question 1.1]"
   ]
  },
  {
   "cell_type": "markdown",
   "metadata": {},
   "source": [
    "***\n",
    "### Checkpoint Question #1.2\n",
    "Take a closer look at the first packet (hint: use `packet.show()` to show the structure of the packet).\n",
    "1. What is the TTL of this packet? \n",
    "2. What are the source & destination addresses of the IP layer? \n",
    "3. What is the SEQ and ACK numbers of the TCP layer? \n",
    "***"
   ]
  },
  {
   "cell_type": "markdown",
   "metadata": {},
   "source": [
    "Enter your answers here."
   ]
  },
  {
   "cell_type": "markdown",
   "metadata": {},
   "source": [
    "***"
   ]
  },
  {
   "cell_type": "code",
   "execution_count": 12,
   "metadata": {},
   "outputs": [],
   "source": [
    "# TODO: YOUR CODE HERE [to answer Checkpoint Question 1.2]"
   ]
  },
  {
   "cell_type": "markdown",
   "metadata": {},
   "source": [
    "### Extract the Payload and Response from this TCP Connection\n",
    "Up to this point, we've analyzed the Network (IP) and Transport (TCP) layers. In order to extract EvanBot's login credentials, we need to analyze the Application (HTTP) layer.\n",
    "\n",
    "This layer is contained within the payload of a handful of packets within the TCP sequence. After the TCP connection is established, the HTTP Layer can send and receive data through the payload of the TCP connection. In our packet structure, this shows up as the \"Raw\" payloads."
   ]
  },
  {
   "cell_type": "markdown",
   "metadata": {},
   "source": [
    "***\n",
    "### Checkpoint Question #1.3\n",
    "Find the packet that contains EvanBot's username and password. \n",
    "\n",
    "*Hint: use packet.show() to show the structure of the packet. Look at the RAW (payload) section of the packet, if it exists. Not all packets contain payloads. To print the payload, use `p[TCP].payload`.*\n",
    "1. What user agent did the HTTP request originate from?\n",
    "2. What are EvanBot's username and password?\n",
    "3. Were the username/password combination correct?\n",
    "4. This attack wouldn't work if Evanbot was using HTTPS. Why?\n",
    "5. This attack wouldn't work if we weren't on-path. Why?\n",
    "***"
   ]
  },
  {
   "cell_type": "markdown",
   "metadata": {},
   "source": [
    "Enter your answers here."
   ]
  },
  {
   "cell_type": "markdown",
   "metadata": {},
   "source": [
    "***"
   ]
  },
  {
   "cell_type": "code",
   "execution_count": 12,
   "metadata": {},
   "outputs": [],
   "source": [
    "# TODO: YOUR CODE HERE [to answer Checkpoint Question 1.3]"
   ]
  },
  {
   "cell_type": "markdown",
   "metadata": {},
   "source": [
    "\n",
    "# Attack #2: Perform a RST Injection Attack"
   ]
  },
  {
   "cell_type": "markdown",
   "metadata": {},
   "source": [
    "Congratulations, you're now officially an on-path attacker! You were able to observe a login event occurring over HTTP without alerting either party of your malicious actions.\n",
    "\n",
    "In this section, we're going to take your hacking skills one step further. It's time to simulate a **RST Injection Attack**! \n",
    "\n",
    "### Background\n",
    "Assume Alice and Bob are communicating over a TCP connection. For every data packet that Alice sends to Bob, Bob replies with a packet with the **ACK** flag set. This indicates a successful acknowledgement of recieving the packet. If Alice doesn't recieve the **ACK**, she can re-send the packet over and over again (to a certain limit) until Bob recieves it and acknowledges it with an **ACK**.  \n",
    "\n",
    "To terminate a TCP connection abruptly, either party can send a TCP packet with the **RST ('R')** flag set. If the sequence number of the **RST** is valid, then the connection will be terminated immediately, without need of an **ACK**.\n",
    "\n",
    "Examples of groups that have used this technique include:\n",
    "- China (the Great Firewall)\n",
    "- Comcast (to block BitTorrent uploads)\n",
    "- Some intrusion detection systems, to mitigate attacks in progress"
   ]
  },
  {
   "cell_type": "markdown",
   "metadata": {},
   "source": [
    "***\n",
    "### Checkpoint Question #1.4\n",
    "1. What information do we need to know or guess in order to perform a RST Injection Attack?\n",
    "***"
   ]
  },
  {
   "cell_type": "markdown",
   "metadata": {},
   "source": [
    "Enter your answer here."
   ]
  },
  {
   "cell_type": "markdown",
   "metadata": {},
   "source": [
    "***"
   ]
  },
  {
   "cell_type": "markdown",
   "metadata": {},
   "source": [
    "### Simulate an Active TCP Connection + Inject a RST Packet"
   ]
  },
  {
   "cell_type": "markdown",
   "metadata": {},
   "source": [
    "In this section, we're going to walk through performing a RST Injection Attack by observing communication on a webserver and injecting RST packets to terminate the connection."
   ]
  },
  {
   "cell_type": "markdown",
   "metadata": {},
   "source": [
    "**Instructions:**\n",
    "1. Change directory to the attack2 folder (`cd attack2`)\n",
    "2. In T1, start the web server by running `python server.py --port 2020`\n",
    "3. In T2, start the client simulation by running `python client.py --port 2020` (in a separate terminal window)\n",
    "4. Proceed below."
   ]
  },
  {
   "cell_type": "markdown",
   "metadata": {},
   "source": [
    "#### Construct the Attack"
   ]
  },
  {
   "cell_type": "markdown",
   "metadata": {},
   "source": [
    "In this attack, we have an active TCP connection to the web server running on port 2020. Our goal, as an on-path attacker, is to construct a packet injection function that responds to any sniffed packets by injecting a packet with the RST Flag set."
   ]
  },
  {
   "cell_type": "markdown",
   "metadata": {},
   "source": [
    "Fill out the appropriate segments below to proceed."
   ]
  },
  {
   "cell_type": "code",
   "execution_count": 34,
   "metadata": {},
   "outputs": [],
   "source": [
    "# TODO: Fill out the appropriate fields below.\n",
    "\n",
    "def inject_packet(packet):\n",
    "    \"\"\"\n",
    "    This is a 'callback' - it's a function that's called as soon as we intercept a packet.\n",
    "    Our goal is to execute a RST Injection Attack on this connection by injecting a malicious packet.\n",
    "    \n",
    "    Hint: you will need to use these values when constructing your spoofed packet.\n",
    "    \n",
    "    - packet[IP].src\n",
    "    - packet[IP].dst\n",
    "    - packet[TCP].sport\n",
    "    - packet[TCP].dport\n",
    "    - packet[TCP].seq\n",
    "    - packet[TCP].ack\n",
    "    \n",
    "    \"\"\"\n",
    "    \n",
    "    # Construct the IP Layer and the TCP Layer.\n",
    "    ip_layer = IP(src=\"\"\"YOUR CODE HERE\"\"\", \n",
    "                  dst=\"\"\"YOUR CODE HERE\"\"\")\n",
    "\n",
    "    tcp_layer = TCP(sport=\"\"\"YOUR CODE HERE\"\"\", \n",
    "                    dport=\"\"\"YOUR CODE HERE\"\"\", \n",
    "                    flags=\"\"\"YOUR CODE HERE\"\"\", \n",
    "                    window=512, \n",
    "                    seq=\"\"\"YOUR CODE HERE\"\"\")\n",
    "\n",
    "    # Enclose the TCP Layer within an IP Layer.\n",
    "    response_packet = ip_layer / tcp_layer\n",
    "    \n",
    "    # Send the packet.\n",
    "    send(response_packet, verbose=0, iface=NETWORK_INTERFACE)"
   ]
  },
  {
   "cell_type": "markdown",
   "metadata": {},
   "source": [
    "After you run the cell below, go to the terminal window that you were running the `server.py` file in. You should see a `BrokenPipeError` indicating the connection was terminated. If you don't see that, then you might have to tweak the values of your setup."
   ]
  },
  {
   "cell_type": "code",
   "execution_count": 35,
   "metadata": {},
   "outputs": [],
   "source": [
    "packets = sniff(filter=\"port 2020\", prn=inject_packet, iface=NETWORK_INTERFACE, count=10)"
   ]
  },
  {
   "cell_type": "markdown",
   "metadata": {},
   "source": [
    "***\n",
    "### Checkpoint Question #1.5\n",
    "- What was the code printed when you terminated the connection? (This makes sure you actually successfully performed the RST Injection Attack).\n",
    "- Would an off-path attacker be able to perform a RST Injection Attack?\n",
    "- Would a RST Injection Attack work on HTTPS traffic?\n",
    "***"
   ]
  },
  {
   "cell_type": "markdown",
   "metadata": {},
   "source": [
    "Your answer here."
   ]
  },
  {
   "cell_type": "markdown",
   "metadata": {},
   "source": [
    "***"
   ]
  },
  {
   "cell_type": "markdown",
   "metadata": {},
   "source": [
    "# Part 2: Other Networking Topics"
   ]
  },
  {
   "cell_type": "markdown",
   "metadata": {},
   "source": [
    "This part requires the `dig` command-line tool in order to work properly. It comes built in on MacOS and Linux, but if you're on Windows, you may need to install it [here](https://help.dyn.com/how-to-use-binds-dig-tool/). If you're having issues, please make a Piazza post!"
   ]
  },
  {
   "cell_type": "markdown",
   "metadata": {},
   "source": [
    "### Quick Review: DNS"
   ]
  },
  {
   "cell_type": "markdown",
   "metadata": {},
   "source": [
    "The Internet is commonly indexed in two different ways. Humans refer to websites using human-readable names such as http://google.com and http://eecs.berkeley.edu, while computers refer to websites using IP addresses such as `172.217.4.174` and `23.195.69.108`. DNS, or the Domain Name System, is the protocol that translates between the two.\n",
    "\n",
    "Your local computer usually delegates the task of DNS lookups to a **DNS Recursive Resolver**, which sends the queries, processes the responses, and maintains an internal cache of records. When performing a lookup, the **DNS Stub Resolver** on your computer sends a query to the recursive resolver, lets it do all the work, and receives the response. The recursive resolver is usually provided by your ISP and/or configured into your network connection by DHCP.\n",
    "\n",
    "The **DNS Authority Servers** or name servers are servers on the Internet responsible for answering DNS queries. There is a special set of authority servers, the root servers, that are publicly known - you can see them for yourself here."
   ]
  },
  {
   "cell_type": "markdown",
   "metadata": {},
   "source": [
    "### Sniff DNS Lookup"
   ]
  },
  {
   "cell_type": "markdown",
   "metadata": {},
   "source": [
    "To start, we're going to take a look at the structure of a DNS Lookup. Run the cell below, and run `dig eecs.berkeley.edu` in a terminal window. You should see two packets printed below: a DNS Query, and a DNS Answer. "
   ]
  },
  {
   "cell_type": "code",
   "execution_count": 16,
   "metadata": {
    "scrolled": false
   },
   "outputs": [
    {
     "name": "stdout",
     "output_type": "stream",
     "text": [
      "Ether / IP / UDP / DNS Qry \"b'eecs.berkeley.edu.'\" \n",
      "Ether / IP / UDP / DNS Ans \"23.185.0.1\" \n"
     ]
    }
   ],
   "source": [
    "#! /usr/bin/env python3\n",
    "\n",
    "from scapy.all import DNS, DNSQR, DNSRR, IP, send, sniff, sr1, UDP\n",
    "def print_packet(p):\n",
    "    print(p.summary())\n",
    "    \n",
    "packets=sniff(prn=print_packet, lfilter=lambda x: x.haslayer(DNS), count=2)"
   ]
  },
  {
   "cell_type": "markdown",
   "metadata": {},
   "source": [
    "***\n",
    "### Checkpoint Question #2.1\n",
    "1. What is the structure of the DNS Query & Response?\n",
    "2. Does the DNS Query & Response use TCP or UDP? Why do you think so?\n",
    "3. What is the IP Address of your DNS Recursive Resolver?\n",
    "***"
   ]
  },
  {
   "cell_type": "markdown",
   "metadata": {},
   "source": [
    "Your answer here."
   ]
  },
  {
   "cell_type": "markdown",
   "metadata": {},
   "source": [
    "***"
   ]
  },
  {
   "cell_type": "code",
   "execution_count": 48,
   "metadata": {},
   "outputs": [],
   "source": [
    "# YOUR CODE HERE for Checkpoint Question 2.1"
   ]
  }
 ],
 "metadata": {
  "kernelspec": {
   "display_name": "Python 3",
   "language": "python",
   "name": "python3"
  },
  "language_info": {
   "codemirror_mode": {
    "name": "ipython",
    "version": 3
   },
   "file_extension": ".py",
   "mimetype": "text/x-python",
   "name": "python",
   "nbconvert_exporter": "python",
   "pygments_lexer": "ipython3",
   "version": "3.7.3"
  }
 },
 "nbformat": 4,
 "nbformat_minor": 4
}
